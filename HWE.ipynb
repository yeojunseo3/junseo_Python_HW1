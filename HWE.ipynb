{
 "cells": [
  {
   "cell_type": "markdown",
   "id": "4e31bc2b",
   "metadata": {},
   "source": [
    "# HomeWork Preparation"
   ]
  },
  {
   "cell_type": "code",
   "execution_count": 1,
   "id": "00d68cfd",
   "metadata": {},
   "outputs": [
    {
     "name": "stdout",
     "output_type": "stream",
     "text": [
      "선택하시오(1: 추가, 2: 삽입, 3: 삭제, 4: 종료)-->1\n",
      "추가할 데이터-->다현\n",
      "['다현']\n",
      "선택하시오(1: 추가, 2: 삽입, 3: 삭제, 4: 종료)-->1\n",
      "추가할 데이터-->정연\n",
      "['다현', '정연']\n",
      "선택하시오(1: 추가, 2: 삽입, 3: 삭제, 4: 종료)-->1\n",
      "추가할 데이터-->쯔위\n",
      "['다현', '정연', '쯔위']\n",
      "선택하시오(1: 추가, 2: 삽입, 3: 삭제, 4: 종료)-->2\n",
      "삽입할 위치-->1\n",
      "추가할 데이터-->하나\n",
      "['다현', '하나', '정연', '쯔위']\n",
      "선택하시오(1: 추가, 2: 삽입, 3: 삭제, 4: 종료)-->2\n",
      "삽입할 위치-->0\n",
      "추가할 데이터-->문별\n",
      "['문별', '다현', '하나', '정연', '쯔위']\n",
      "선택하시오(1: 추가, 2: 삽입, 3: 삭제, 4: 종료)-->3\n",
      "삭제할 위치-->3\n",
      "['문별', '다현', '하나', '쯔위']\n",
      "선택하시오(1: 추가, 2: 삽입, 3: 삭제, 4: 종료)-->4\n",
      "['문별', '다현', '하나', '쯔위']\n"
     ]
    }
   ],
   "source": [
    "def add_data(friend) :\n",
    "    \n",
    "    katok.append(None)\n",
    "    kLen = len(katok)\n",
    "    katok[kLen-1] = friend\n",
    "    \n",
    "\n",
    "def insert_data(position, friend) :\n",
    "    if position < 0 or position > len(katok) :\n",
    "        print(\"데이터를 삽입할 범위를 벗어났습니다.\")\n",
    "        return\n",
    "    \n",
    "    katok.append(None)\n",
    "    kLen = len(katok)\n",
    "    \n",
    "    for i in range(kLen-1, position, -1) :\n",
    "        katok[i] = katok[i-1]\n",
    "        katok[i-1] = None\n",
    "    \n",
    "    katok[position] = friend\n",
    "    \n",
    "def delete_data(position) :\n",
    "    if position < 0 or position > len(katok) :\n",
    "        print(\"데이터를 삭제할 범위를 벗어났습니다.\")\n",
    "        return\n",
    "    \n",
    "    kLen = len(katok)\n",
    "    katok[position] = None\n",
    "    \n",
    "    for i in range(position +1,kLen) :\n",
    "        katok[i-1] = katok[i]\n",
    "        katok[i] = None\n",
    "    del(katok[kLen-1])\n",
    "    \n",
    "    \n",
    "katok = []\n",
    "select = -1\n",
    "\n",
    "if __name__ ==\"__main__\" :\n",
    "    \n",
    "    while(select != 4):\n",
    "        \n",
    "        select = int(input(\"선택하시오(1: 추가, 2: 삽입, 3: 삭제, 4: 종료)-->\"))\n",
    "        \n",
    "        if (select == 1) :\n",
    "            data = input(\"추가할 데이터-->\")\n",
    "            add_data(data)\n",
    "            print(katok)\n",
    "        elif (select == 2) :\n",
    "            pos = int(input(\"삽입할 위치-->\"))\n",
    "            data = input(\"추가할 데이터-->\")\n",
    "            insert_data(pos, data)\n",
    "            print(katok)\n",
    "            \n",
    "        elif (select == 3) :\n",
    "            pos = int(input(\"삭제할 위치-->\"))\n",
    "            delete_data(pos)\n",
    "            print(katok)\n",
    "        \n",
    "        elif (select == 4) :\n",
    "            print(katok)\n",
    "            exit\n",
    "        \n",
    "        else :\n",
    "            print(\"1~4 중 하나를 입력하시오.\")\n",
    "            continue"
   ]
  }
 ],
 "metadata": {
  "kernelspec": {
   "display_name": "Python 3 (ipykernel)",
   "language": "python",
   "name": "python3"
  },
  "language_info": {
   "codemirror_mode": {
    "name": "ipython",
    "version": 3
   },
   "file_extension": ".py",
   "mimetype": "text/x-python",
   "name": "python",
   "nbconvert_exporter": "python",
   "pygments_lexer": "ipython3",
   "version": "3.9.12"
  }
 },
 "nbformat": 4,
 "nbformat_minor": 5
}
